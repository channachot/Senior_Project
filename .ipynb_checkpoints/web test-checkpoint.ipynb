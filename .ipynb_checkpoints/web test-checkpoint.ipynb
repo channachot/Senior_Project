{
 "cells": [
  {
   "cell_type": "code",
   "execution_count": null,
   "metadata": {},
   "outputs": [],
   "source": [
    "import pandas as pd\n",
    "import numpy as np\n",
    "import matplotlib.pyplot as plt\n",
    "import yfinance as yf\n",
    "import time \n",
    "import scipy\n",
    "import investpy\n",
    "%matplotlib inline\n",
    "\n",
    "# Import Statsmodels\n",
    "from statsmodels.tsa.api import VAR\n",
    "from statsmodels.tsa.stattools import adfuller\n",
    "from statsmodels.tools.eval_measures import rmse, aic\n",
    "\n",
    "import dash\n",
    "import dash_core_components as dcc\n",
    "import dash_html_components as html\n",
    "from dash.dependencies import Input, Output\n",
    "import plotly.graph_objects as go\n",
    "import plotly.express as px\n",
    "from jupyter_dash import JupyterDash"
   ]
  },
  {
   "cell_type": "code",
   "execution_count": 2,
   "metadata": {},
   "outputs": [],
   "source": [
    "# BTS_cnn_lstm=pd.read_csv('BTSplot_cnn_lstm200_1d.csv')\n",
    "# CPF_cnn_lstm=pd.read_csv('CPFplot_cnn_lstm200_1d.csv')\n",
    "# PTTEP_cnn_lstm=pd.read_csv('PTTEPplot_cnn_lstm200_1d.csv')\n",
    "# SCC_cnn_lstm=pd.read_csv('SCCplot_cnn_lstm200_1d.csv')\n",
    "# TVO_cnn_lstm=pd.read_csv('TVOplot_cnn_lstm200_1d.csv')\n",
    "\n",
    "# BTS_cnn_lstm.set_index(\"Date\", inplace = True)\n",
    "# CPF_cnn_lstm.set_index(\"Date\", inplace = True)\n",
    "# PTTEP_cnn_lstm.set_index(\"Date\", inplace = True)\n",
    "# SCC_cnn_lstm.set_index(\"Date\", inplace = True)\n",
    "# TVO_cnn_lstm.set_index(\"Date\", inplace = True)"
   ]
  },
  {
   "cell_type": "code",
   "execution_count": 3,
   "metadata": {},
   "outputs": [],
   "source": [
    "BTS_cnn_lstm=pd.read_csv('BTSplot_cnn_lstm400_7d.csv')\n",
    "CPF_cnn_lstm=pd.read_csv('CPFplot_cnn_lstm400_7d.csv')\n",
    "PTTEP_cnn_lstm=pd.read_csv('PTTEPplot_cnn_lstm400_7d.csv')\n",
    "SCC_cnn_lstm=pd.read_csv('SCCplot_cnn_lstm400_7d.csv')\n",
    "TVO_cnn_lstm=pd.read_csv('TVOplot_cnn_lstm400_7d.csv')\n",
    "\n",
    "BTS_cnn_lstm.set_index(\"Date\", inplace = True)\n",
    "CPF_cnn_lstm.set_index(\"Date\", inplace = True)\n",
    "PTTEP_cnn_lstm.set_index(\"Date\", inplace = True)\n",
    "SCC_cnn_lstm.set_index(\"Date\", inplace = True)\n",
    "TVO_cnn_lstm.set_index(\"Date\", inplace = True)"
   ]
  },
  {
   "cell_type": "code",
   "execution_count": 4,
   "metadata": {},
   "outputs": [],
   "source": [
    "# BTS_VAR=pd.read_csv('BTSplot_VAR_1d.csv')\n",
    "# CPF_VAR=pd.read_csv('CPFplot_VAR_1d.csv')\n",
    "# PTTEP_VAR=pd.read_csv('PTTEPplot_VAR_1d.csv')\n",
    "# SCC_VAR=pd.read_csv('SCCplot_VAR_1d.csv')\n",
    "# TVO_VAR=pd.read_csv('TVOplot_VAR_1d.csv')\n",
    "\n",
    "# BTS_VAR.set_index(\"Date\", inplace = True)\n",
    "# CPF_VAR.set_index(\"Date\", inplace = True)\n",
    "# PTTEP_VAR.set_index(\"Date\", inplace = True)\n",
    "# SCC_VAR.set_index(\"Date\", inplace = True)\n",
    "# TVO_VAR.set_index(\"Date\", inplace = True)\n"
   ]
  },
  {
   "cell_type": "code",
   "execution_count": 5,
   "metadata": {},
   "outputs": [],
   "source": [
    "\n",
    "# BTS_VAR=pd.read_csv('BTSplot_VAR_7d.csv')\n",
    "# CPF_VAR=pd.read_csv('CPFplot_VAR_7d.csv')\n",
    "# PTTEP_VAR=pd.read_csv('PTTEPplot_VAR_7d.csv')\n",
    "# SCC_VAR=pd.read_csv('SCCplot_VAR_7d.csv')\n",
    "# TVO_VAR=pd.read_csv('TVOplot_VAR_7d.csv')\n",
    "\n",
    "# BTS_VAR.set_index(\"Date\", inplace = True)\n",
    "# CPF_VAR.set_index(\"Date\", inplace = True)\n",
    "# PTTEP_VAR.set_index(\"Date\", inplace = True)\n",
    "# SCC_VAR.set_index(\"Date\", inplace = True)\n",
    "# TVO_VAR.set_index(\"Date\", inplace = True)\n"
   ]
  },
  {
   "cell_type": "code",
   "execution_count": 6,
   "metadata": {},
   "outputs": [],
   "source": [
    "BTS_VAR=pd.read_csv('BTSplot_VAR_13e7d.csv')\n",
    "CPF_VAR=pd.read_csv('CPFplot_VAR_13e7d.csv')\n",
    "PTTEP_VAR=pd.read_csv('PTTEPplot_VAR_13e7d.csv')\n",
    "SCC_VAR=pd.read_csv('SCCplot_VAR_13e7d.csv')\n",
    "TVO_VAR=pd.read_csv('TVOplot_VAR_13e7d.csv')\n",
    "\n",
    "BTS_VAR.set_index(\"Date\", inplace = True)\n",
    "CPF_VAR.set_index(\"Date\", inplace = True)\n",
    "PTTEP_VAR.set_index(\"Date\", inplace = True)\n",
    "SCC_VAR.set_index(\"Date\", inplace = True)\n",
    "TVO_VAR.set_index(\"Date\", inplace = True)"
   ]
  },
  {
   "cell_type": "code",
   "execution_count": 7,
   "metadata": {},
   "outputs": [],
   "source": [
    "# Price Error\n",
    "Plot_Error=pd.read_csv('Plot_Error.csv')\n"
   ]
  },
  {
   "cell_type": "code",
   "execution_count": 135,
   "metadata": {},
   "outputs": [],
   "source": [
    "# Trend\n",
    "BTS_trend=pd.read_csv('BTS_trend.csv')\n",
    "CPF_trend=pd.read_csv('CPF_trend.csv')\n",
    "PTTEP_trend=pd.read_csv('PTTEP_trend.csv')\n",
    "SCC_trend=pd.read_csv('SCC_trend.csv')\n",
    "TVO_trend=pd.read_csv('TVO_trend.csv')\n",
    "\n",
    "BTS_trend.set_index(\"Date\", inplace = True)\n",
    "CPF_trend.set_index(\"Date\", inplace = True)\n",
    "PTTEP_trend.set_index(\"Date\", inplace = True)\n",
    "SCC_trend.set_index(\"Date\", inplace = True)\n",
    "TVO_trend.set_index(\"Date\", inplace = True)"
   ]
  },
  {
   "cell_type": "code",
   "execution_count": 136,
   "metadata": {},
   "outputs": [],
   "source": [
    "# Trend Error\n",
    "BTS_trend_error=pd.read_csv('BTS_trend_error.csv')\n",
    "CPF_trend_error=pd.read_csv('CPF_trend_error.csv')\n",
    "PTTEP_trend_error=pd.read_csv('PTTEP_trend_error.csv')\n",
    "SCC_trend_error=pd.read_csv('SCC_trend_error.csv')\n",
    "TVO_trend_error=pd.read_csv('TVO_trend_error.csv')\n",
    "\n",
    "BTS_trend_error.set_index(\"Date\", inplace = True)\n",
    "CPF_trend_error.set_index(\"Date\", inplace = True)\n",
    "PTTEP_trend_error.set_index(\"Date\", inplace = True)\n",
    "SCC_trend_error.set_index(\"Date\", inplace = True)\n",
    "TVO_trend_error.set_index(\"Date\", inplace = True)"
   ]
  },
  {
   "cell_type": "code",
   "execution_count": 10,
   "metadata": {},
   "outputs": [],
   "source": [
    "def plot_Price(pred,tests,name_stock):\n",
    "# name_stock = 'BTS'\n",
    "# pred = BTS_prediction_n\n",
    "# tests = BTS_testslicing\n",
    "\n",
    "    fig = go.Figure()\n",
    "\n",
    "    fig.add_trace(\n",
    "\n",
    "    #     go.Scatter(x=locals()[str(name_stock)+'_prediction_n'].index, \n",
    "    #                y=locals()[str(name_stock)+'_prediction_n'][i+'.BK'+'_forecast'],\n",
    "    #                name = '{}.BK_forecast'.format(name_stock)\n",
    "    #               )\n",
    "                go.Scatter(x=pred.index, \n",
    "                       y=pred,\n",
    "                       name = '{}.BK_forecast'.format(name_stock)\n",
    "                      )\n",
    "\n",
    "    )\n",
    "\n",
    "    fig.add_trace(\n",
    "\n",
    "    #         go.Scatter(x=locals()[str(name_stock)+'_testslicing'].index, \n",
    "    #                    y=locals()[str(name_stock)+'_testslicing'][i+'.BK'],\n",
    "    #                    name = '{}.BK'.format(name_stock)\n",
    "    #                   )\n",
    "                go.Scatter(x=tests.index, \n",
    "                           y=tests,\n",
    "                           name = '{}.BK'.format(name_stock)\n",
    "                          )\n",
    "    ) \n",
    "    colors = {\n",
    "    'background': '#111111',\n",
    "    'text': '#7FDBFF'\n",
    "    }\n",
    "    fig.update_xaxes(title_text=\"Date\")\n",
    "    fig.update_yaxes(title_text=\"Price(THB)\")\n",
    "    fig.update_layout(\n",
    "    plot_bgcolor=colors['background'],\n",
    "    paper_bgcolor=colors['background'],\n",
    "    font_color=colors['text']\n",
    ")\n",
    "#     fig.update_layout(height=700, width=1000, title_text=\"Stock Price Prediction\",)\n",
    "    fig.update_layout( title_text=\"{} Stock Price Prediction\".format(name_stock),title_font_size=30,height=600)\n",
    "# fig.show()\n",
    "    return fig"
   ]
  },
  {
   "cell_type": "code",
   "execution_count": 11,
   "metadata": {},
   "outputs": [],
   "source": [
    "def plot_Error(pred,tests,name_stock):\n",
    "# name_stock = 'BTS'\n",
    "# pred = BTS_prediction_n\n",
    "# tests = BTS_testslicing\n",
    "\n",
    "    fig = go.Figure()\n",
    "\n",
    "    fig.add_trace(\n",
    "\n",
    "    #     go.Scatter(x=locals()[str(name_stock)+'_prediction_n'].index, \n",
    "    #                y=locals()[str(name_stock)+'_prediction_n'][i+'.BK'+'_forecast'],\n",
    "    #                name = '{}.BK_forecast'.format(name_stock)\n",
    "    #               )\n",
    "                go.Scatter(x=pred.index, \n",
    "                       y=pred,\n",
    "                       name = '{}.BK_forecast (VAR)'.format(name_stock)\n",
    "                      )\n",
    "\n",
    "    )\n",
    "\n",
    "    fig.add_trace(\n",
    "\n",
    "    #         go.Scatter(x=locals()[str(name_stock)+'_testslicing'].index, \n",
    "    #                    y=locals()[str(name_stock)+'_testslicing'][i+'.BK'],\n",
    "    #                    name = '{}.BK'.format(name_stock)\n",
    "    #                   )\n",
    "                go.Scatter(x=tests.index, \n",
    "                           y=tests,\n",
    "                           name = '{}.BK_forecast (CNN-LSTM)'.format(name_stock)\n",
    "                          )\n",
    "    ) \n",
    "    colors = {\n",
    "    'background': '#111111',\n",
    "    'text': '#7FDBFF'\n",
    "    }\n",
    "    fig.update_xaxes(title_text=\"Date\")\n",
    "    fig.update_yaxes(title_text=\"Percent (%)\")\n",
    "    fig.update_layout(\n",
    "    plot_bgcolor=colors['background'],\n",
    "    paper_bgcolor=colors['background'],\n",
    "    font_color=colors['text']\n",
    ")\n",
    "#     fig.update_layout(height=700, width=1000, title_text=\"Stock Price Prediction\",)\n",
    "    fig.update_layout( title_text=\"{} Stock Price Error\".format(name_stock),title_font_size=30,height=600)\n",
    "# fig.show()\n",
    "    return fig"
   ]
  },
  {
   "cell_type": "markdown",
   "metadata": {},
   "source": [
    "# Create plot price"
   ]
  },
  {
   "cell_type": "code",
   "execution_count": 12,
   "metadata": {},
   "outputs": [],
   "source": [
    "BTSplot_VAR = plot_Price(BTS_VAR['BTS.BK_forecast'],BTS_VAR['BTS.BK'],'BTS')\n",
    "CPFplot_VAR = plot_Price(CPF_VAR['CPF.BK_forecast'],CPF_VAR['CPF.BK'],'CPF')\n",
    "PTTEPplot_VAR = plot_Price(PTTEP_VAR['PTTEP.BK_forecast'],PTTEP_VAR['PTTEP.BK'],'PTTEP')\n",
    "SCCplot_VAR = plot_Price(SCC_VAR['SCC.BK_forecast'],SCC_VAR['SCC.BK'],'SCC')\n",
    "TVOplot_VAR = plot_Price(TVO_VAR['TVO.BK_forecast'],TVO_VAR['TVO.BK'],'TVO')\n",
    "# BTSplot_VAR"
   ]
  },
  {
   "cell_type": "code",
   "execution_count": 13,
   "metadata": {},
   "outputs": [],
   "source": [
    "## --->> forcasr => forecast\n",
    "BTSplot_cnn_lstm = plot_Price(BTS_cnn_lstm['Forcast'],BTS_cnn_lstm['Actuals'],'BTS')\n",
    "CPFplot_cnn_lstm = plot_Price(CPF_cnn_lstm['Forcast'],CPF_cnn_lstm['Actuals'],'CPF')\n",
    "PTTEPplot_cnn_lstm = plot_Price(PTTEP_cnn_lstm['Forcast'],PTTEP_cnn_lstm['Actuals'],'PTTEP')\n",
    "SCCplot_cnn_lstm = plot_Price(SCC_cnn_lstm['Forcast'],SCC_cnn_lstm['Actuals'],'SCC')\n",
    "TVOplot_cnn_lstm = plot_Price(TVO_cnn_lstm['Forcast'],TVO_cnn_lstm['Actuals'],'TVO')\n"
   ]
  },
  {
   "cell_type": "markdown",
   "metadata": {},
   "source": [
    "# Create plot price error"
   ]
  },
  {
   "cell_type": "code",
   "execution_count": 14,
   "metadata": {},
   "outputs": [],
   "source": [
    "BTSplot_PRICEerror = plot_Error(Plot_Error['BTS Percent Error (VAR)'],Plot_Error['BTS Percent Error (CNN-LSTM)'],'BTS')\n",
    "CPFplot_PRICEerror = plot_Error(Plot_Error['CPF Percent Error (VAR)'],Plot_Error['CPF Percent Error (CNN-LSTM)'],'CPF')\n",
    "PTTEPplot_PRICEerror = plot_Error(Plot_Error['PTTEP Percent Error (VAR)'],Plot_Error['PTTEP Percent Error (CNN-LSTM)'],'PTTEP')\n",
    "SCCplot_PRICEerrorr = plot_Error(Plot_Error['SCC Percent Error (VAR)'],Plot_Error['SCC Percent Error (CNN-LSTM)'],'SCC')\n",
    "TVOplot_PRICEerror = plot_Error(Plot_Error['TVO Percent Error (VAR)'],Plot_Error['TVO Percent Error (CNN-LSTM)'],'TVO')"
   ]
  },
  {
   "cell_type": "code",
   "execution_count": null,
   "metadata": {},
   "outputs": [],
   "source": []
  },
  {
   "cell_type": "code",
   "execution_count": 15,
   "metadata": {},
   "outputs": [],
   "source": [
    "from statsmodels.tsa.stattools import acf\n",
    "def forecast_accuracy(forecast, actual):\n",
    "#   \n",
    "#     n = train.shape[0]\n",
    "#     d = np.abs(  np.diff( train) ).sum()/(n-1)\n",
    "    \n",
    "    mae = np.mean(np.abs(forecast - actual))    # MAE\n",
    "    rmse = np.mean((forecast - actual)**2)**.5  # RMSE\n",
    "    mape = np.mean(np.abs(forecast - actual)/np.abs(actual))  # MAPE\n",
    "#     mase = np.mean(np.abs(actual - forecast ))/d\n",
    "    \n",
    "#     me = np.mean(forecast - actual)             # ME\n",
    "#     mpe = np.mean((forecast - actual)/actual)   # MPE\n",
    "#     corr = np.corrcoef(forecast, actual)[0,1]   # corr\n",
    "#     mins = np.amin(np.hstack([forecast[:,None], \n",
    "#                               actual[:,None]]), axis=1)\n",
    "#     maxs = np.amax(np.hstack([forecast[:,None], \n",
    "#                               actual[:,None]]), axis=1)\n",
    "#     minmax = 1 - np.mean(mins/maxs)             # minmax\n",
    "    return({'mae (Mean Absolute Error)': mae, \n",
    "            'rmse (Root Mean Square Error)':rmse,\n",
    "            'mape (Mean absolute percentage error)':mape*100})"
   ]
  },
  {
   "cell_type": "code",
   "execution_count": 197,
   "metadata": {},
   "outputs": [],
   "source": [
    "# list_of_stock=['BTS' ,\n",
    "# 'CPF' ,\n",
    "# 'PTTEP' ,\n",
    "# 'SCC' ,\n",
    "# 'TVO' ]\n",
    "for i in list_of_stock:\n",
    "    locals()[str(i)+'_accuracy_trend_VAR'] =np.mean(np.abs(locals()[str(i)+'_trend'][i+'.BK_forecast'].values[7:-7] - locals()[str(i)+'_trend']['Actuals'].values[7:-7])/np.abs(locals()[str(i)+'_trend']['Actuals'].values[7:-7]))*100\n",
    "#     plt.tight_layout();\n",
    "for i in list_of_stock:\n",
    "    locals()[str(i)+'_accuracy_trend_CNNLSTM'] =np.mean(np.abs(locals()[str(i)+'_trend']['Forcast'].values[7:-7] - locals()[str(i)+'_trend']['Actuals'].values[7:-7])/np.abs(locals()[str(i)+'_trend']['Actuals'].values[7:-7]))*100\n",
    "#     plt.tight_layout();\n"
   ]
  },
  {
   "cell_type": "code",
   "execution_count": 175,
   "metadata": {},
   "outputs": [
    {
     "data": {
      "text/plain": [
       "<Figure size 432x288 with 0 Axes>"
      ]
     },
     "metadata": {},
     "output_type": "display_data"
    }
   ],
   "source": [
    "list_of_stock=['BTS' ,\n",
    "'CPF' ,\n",
    "'PTTEP' ,\n",
    "'SCC' ,\n",
    "'TVO' ]\n",
    "for i in list_of_stock:\n",
    "#     print('Forecast Accuracy of: {}\\n'.format(i))\n",
    "#     accuracy_prod = forecast_accuracy(BTS_prediction['BTS.BK_forecast'].values, BTS_testslicing['BTS.BK'])\n",
    "    locals()[str(i)+'_accuracy_prod_VAR'] = forecast_accuracy(locals()[str(i)+'_VAR'][i+'.BK_forecast'].values, locals()[str(i)+'_VAR'][i+'.BK'])\n",
    "#     for k, v in accuracy_prod.items():\n",
    "#         print(k, ': ', round(v,4))\n",
    "#     print('\\n')\n",
    "    plt.tight_layout();\n",
    "for i in list_of_stock:\n",
    "#     print('Forecast Accuracy of: {}\\n'.format(i))\n",
    "#     accuracy_prod = forecast_accuracy(BTS_prediction['BTS.BK_forecast'].values, BTS_testslicing['BTS.BK'])\n",
    "    locals()[str(i)+'_accuracy_prod_CNNLSTM'] = forecast_accuracy(locals()[str(i)+'_cnn_lstm']['Forcast'].values, locals()[str(i)+'_cnn_lstm']['Actuals'])\n",
    "#     for k, v in accuracy_prod.items():\n",
    "#         print(k, ': ', round(v,4))\n",
    "#     print('\\n')\n",
    "    plt.tight_layout();"
   ]
  },
  {
   "cell_type": "markdown",
   "metadata": {},
   "source": [
    "# Bar error"
   ]
  },
  {
   "cell_type": "code",
   "execution_count": 129,
   "metadata": {},
   "outputs": [],
   "source": [
    "histo_VAR_error1 = pd.DataFrame([BTS_accuracy_prod_VAR[mape],\n",
    "                                CPF_accuracy_prod_VAR[mape],\n",
    "                                PTTEP_accuracy_prod_VAR[mape],\n",
    "                                SCC_accuracy_prod_VAR[mape],\n",
    "                                TVO_accuracy_prod_VAR[mape]]\n",
    "                               \n",
    "                              ,columns=[mapeVAR]\n",
    "                               ,index=['BTS','CPF','PTTEP','SCC','TVO']\n",
    "                            )\n",
    "histo_CL_error1 =pd.DataFrame([BTS_accuracy_prod_CNNLSTM[mape],\n",
    "                                CPF_accuracy_prod_CNNLSTM[mape],\n",
    "                                PTTEP_accuracy_prod_CNNLSTM[mape],\n",
    "                                SCC_accuracy_prod_CNNLSTM[mape],\n",
    "                                TVO_accuracy_prod_CNNLSTM[mape]]\n",
    "                             \n",
    "                              ,columns=[mapeCL]\n",
    "                               ,index=['BTS','CPF','PTTEP','SCC','TVO']\n",
    "                            )\n",
    "histo_error1 = histo_VAR_error1.join(histo_CL_error1)\n",
    "histo_error1.index.names = ['Stocks']"
   ]
  },
  {
   "cell_type": "code",
   "execution_count": 130,
   "metadata": {},
   "outputs": [
    {
     "data": {
      "application/vnd.plotly.v1+json": {
       "config": {
        "plotlyServerURL": "https://plot.ly"
       },
       "data": [
        {
         "name": "VAR",
         "type": "bar",
         "x": [
          "BTS",
          "CPF",
          "PTTEP",
          "SCC",
          "TVO"
         ],
         "y": [
          3.635622257389319,
          3.4181707157889076,
          5.751353709993465,
          2.9494550703529376,
          2.9945726605714666
         ]
        },
        {
         "name": "CNN+LSTM",
         "type": "bar",
         "x": [
          "BTS",
          "CPF",
          "PTTEP",
          "SCC",
          "TVO"
         ],
         "y": [
          2.0410574664443586,
          2.458837537370632,
          3.1657611729947654,
          2.2500781766104065,
          2.0896720629548575
         ]
        }
       ],
       "layout": {
        "template": {
         "data": {
          "bar": [
           {
            "error_x": {
             "color": "#2a3f5f"
            },
            "error_y": {
             "color": "#2a3f5f"
            },
            "marker": {
             "line": {
              "color": "#E5ECF6",
              "width": 0.5
             }
            },
            "type": "bar"
           }
          ],
          "barpolar": [
           {
            "marker": {
             "line": {
              "color": "#E5ECF6",
              "width": 0.5
             }
            },
            "type": "barpolar"
           }
          ],
          "carpet": [
           {
            "aaxis": {
             "endlinecolor": "#2a3f5f",
             "gridcolor": "white",
             "linecolor": "white",
             "minorgridcolor": "white",
             "startlinecolor": "#2a3f5f"
            },
            "baxis": {
             "endlinecolor": "#2a3f5f",
             "gridcolor": "white",
             "linecolor": "white",
             "minorgridcolor": "white",
             "startlinecolor": "#2a3f5f"
            },
            "type": "carpet"
           }
          ],
          "choropleth": [
           {
            "colorbar": {
             "outlinewidth": 0,
             "ticks": ""
            },
            "type": "choropleth"
           }
          ],
          "contour": [
           {
            "colorbar": {
             "outlinewidth": 0,
             "ticks": ""
            },
            "colorscale": [
             [
              0,
              "#0d0887"
             ],
             [
              0.1111111111111111,
              "#46039f"
             ],
             [
              0.2222222222222222,
              "#7201a8"
             ],
             [
              0.3333333333333333,
              "#9c179e"
             ],
             [
              0.4444444444444444,
              "#bd3786"
             ],
             [
              0.5555555555555556,
              "#d8576b"
             ],
             [
              0.6666666666666666,
              "#ed7953"
             ],
             [
              0.7777777777777778,
              "#fb9f3a"
             ],
             [
              0.8888888888888888,
              "#fdca26"
             ],
             [
              1,
              "#f0f921"
             ]
            ],
            "type": "contour"
           }
          ],
          "contourcarpet": [
           {
            "colorbar": {
             "outlinewidth": 0,
             "ticks": ""
            },
            "type": "contourcarpet"
           }
          ],
          "heatmap": [
           {
            "colorbar": {
             "outlinewidth": 0,
             "ticks": ""
            },
            "colorscale": [
             [
              0,
              "#0d0887"
             ],
             [
              0.1111111111111111,
              "#46039f"
             ],
             [
              0.2222222222222222,
              "#7201a8"
             ],
             [
              0.3333333333333333,
              "#9c179e"
             ],
             [
              0.4444444444444444,
              "#bd3786"
             ],
             [
              0.5555555555555556,
              "#d8576b"
             ],
             [
              0.6666666666666666,
              "#ed7953"
             ],
             [
              0.7777777777777778,
              "#fb9f3a"
             ],
             [
              0.8888888888888888,
              "#fdca26"
             ],
             [
              1,
              "#f0f921"
             ]
            ],
            "type": "heatmap"
           }
          ],
          "heatmapgl": [
           {
            "colorbar": {
             "outlinewidth": 0,
             "ticks": ""
            },
            "colorscale": [
             [
              0,
              "#0d0887"
             ],
             [
              0.1111111111111111,
              "#46039f"
             ],
             [
              0.2222222222222222,
              "#7201a8"
             ],
             [
              0.3333333333333333,
              "#9c179e"
             ],
             [
              0.4444444444444444,
              "#bd3786"
             ],
             [
              0.5555555555555556,
              "#d8576b"
             ],
             [
              0.6666666666666666,
              "#ed7953"
             ],
             [
              0.7777777777777778,
              "#fb9f3a"
             ],
             [
              0.8888888888888888,
              "#fdca26"
             ],
             [
              1,
              "#f0f921"
             ]
            ],
            "type": "heatmapgl"
           }
          ],
          "histogram": [
           {
            "marker": {
             "colorbar": {
              "outlinewidth": 0,
              "ticks": ""
             }
            },
            "type": "histogram"
           }
          ],
          "histogram2d": [
           {
            "colorbar": {
             "outlinewidth": 0,
             "ticks": ""
            },
            "colorscale": [
             [
              0,
              "#0d0887"
             ],
             [
              0.1111111111111111,
              "#46039f"
             ],
             [
              0.2222222222222222,
              "#7201a8"
             ],
             [
              0.3333333333333333,
              "#9c179e"
             ],
             [
              0.4444444444444444,
              "#bd3786"
             ],
             [
              0.5555555555555556,
              "#d8576b"
             ],
             [
              0.6666666666666666,
              "#ed7953"
             ],
             [
              0.7777777777777778,
              "#fb9f3a"
             ],
             [
              0.8888888888888888,
              "#fdca26"
             ],
             [
              1,
              "#f0f921"
             ]
            ],
            "type": "histogram2d"
           }
          ],
          "histogram2dcontour": [
           {
            "colorbar": {
             "outlinewidth": 0,
             "ticks": ""
            },
            "colorscale": [
             [
              0,
              "#0d0887"
             ],
             [
              0.1111111111111111,
              "#46039f"
             ],
             [
              0.2222222222222222,
              "#7201a8"
             ],
             [
              0.3333333333333333,
              "#9c179e"
             ],
             [
              0.4444444444444444,
              "#bd3786"
             ],
             [
              0.5555555555555556,
              "#d8576b"
             ],
             [
              0.6666666666666666,
              "#ed7953"
             ],
             [
              0.7777777777777778,
              "#fb9f3a"
             ],
             [
              0.8888888888888888,
              "#fdca26"
             ],
             [
              1,
              "#f0f921"
             ]
            ],
            "type": "histogram2dcontour"
           }
          ],
          "mesh3d": [
           {
            "colorbar": {
             "outlinewidth": 0,
             "ticks": ""
            },
            "type": "mesh3d"
           }
          ],
          "parcoords": [
           {
            "line": {
             "colorbar": {
              "outlinewidth": 0,
              "ticks": ""
             }
            },
            "type": "parcoords"
           }
          ],
          "pie": [
           {
            "automargin": true,
            "type": "pie"
           }
          ],
          "scatter": [
           {
            "marker": {
             "colorbar": {
              "outlinewidth": 0,
              "ticks": ""
             }
            },
            "type": "scatter"
           }
          ],
          "scatter3d": [
           {
            "line": {
             "colorbar": {
              "outlinewidth": 0,
              "ticks": ""
             }
            },
            "marker": {
             "colorbar": {
              "outlinewidth": 0,
              "ticks": ""
             }
            },
            "type": "scatter3d"
           }
          ],
          "scattercarpet": [
           {
            "marker": {
             "colorbar": {
              "outlinewidth": 0,
              "ticks": ""
             }
            },
            "type": "scattercarpet"
           }
          ],
          "scattergeo": [
           {
            "marker": {
             "colorbar": {
              "outlinewidth": 0,
              "ticks": ""
             }
            },
            "type": "scattergeo"
           }
          ],
          "scattergl": [
           {
            "marker": {
             "colorbar": {
              "outlinewidth": 0,
              "ticks": ""
             }
            },
            "type": "scattergl"
           }
          ],
          "scattermapbox": [
           {
            "marker": {
             "colorbar": {
              "outlinewidth": 0,
              "ticks": ""
             }
            },
            "type": "scattermapbox"
           }
          ],
          "scatterpolar": [
           {
            "marker": {
             "colorbar": {
              "outlinewidth": 0,
              "ticks": ""
             }
            },
            "type": "scatterpolar"
           }
          ],
          "scatterpolargl": [
           {
            "marker": {
             "colorbar": {
              "outlinewidth": 0,
              "ticks": ""
             }
            },
            "type": "scatterpolargl"
           }
          ],
          "scatterternary": [
           {
            "marker": {
             "colorbar": {
              "outlinewidth": 0,
              "ticks": ""
             }
            },
            "type": "scatterternary"
           }
          ],
          "surface": [
           {
            "colorbar": {
             "outlinewidth": 0,
             "ticks": ""
            },
            "colorscale": [
             [
              0,
              "#0d0887"
             ],
             [
              0.1111111111111111,
              "#46039f"
             ],
             [
              0.2222222222222222,
              "#7201a8"
             ],
             [
              0.3333333333333333,
              "#9c179e"
             ],
             [
              0.4444444444444444,
              "#bd3786"
             ],
             [
              0.5555555555555556,
              "#d8576b"
             ],
             [
              0.6666666666666666,
              "#ed7953"
             ],
             [
              0.7777777777777778,
              "#fb9f3a"
             ],
             [
              0.8888888888888888,
              "#fdca26"
             ],
             [
              1,
              "#f0f921"
             ]
            ],
            "type": "surface"
           }
          ],
          "table": [
           {
            "cells": {
             "fill": {
              "color": "#EBF0F8"
             },
             "line": {
              "color": "white"
             }
            },
            "header": {
             "fill": {
              "color": "#C8D4E3"
             },
             "line": {
              "color": "white"
             }
            },
            "type": "table"
           }
          ]
         },
         "layout": {
          "annotationdefaults": {
           "arrowcolor": "#2a3f5f",
           "arrowhead": 0,
           "arrowwidth": 1
          },
          "coloraxis": {
           "colorbar": {
            "outlinewidth": 0,
            "ticks": ""
           }
          },
          "colorscale": {
           "diverging": [
            [
             0,
             "#8e0152"
            ],
            [
             0.1,
             "#c51b7d"
            ],
            [
             0.2,
             "#de77ae"
            ],
            [
             0.3,
             "#f1b6da"
            ],
            [
             0.4,
             "#fde0ef"
            ],
            [
             0.5,
             "#f7f7f7"
            ],
            [
             0.6,
             "#e6f5d0"
            ],
            [
             0.7,
             "#b8e186"
            ],
            [
             0.8,
             "#7fbc41"
            ],
            [
             0.9,
             "#4d9221"
            ],
            [
             1,
             "#276419"
            ]
           ],
           "sequential": [
            [
             0,
             "#0d0887"
            ],
            [
             0.1111111111111111,
             "#46039f"
            ],
            [
             0.2222222222222222,
             "#7201a8"
            ],
            [
             0.3333333333333333,
             "#9c179e"
            ],
            [
             0.4444444444444444,
             "#bd3786"
            ],
            [
             0.5555555555555556,
             "#d8576b"
            ],
            [
             0.6666666666666666,
             "#ed7953"
            ],
            [
             0.7777777777777778,
             "#fb9f3a"
            ],
            [
             0.8888888888888888,
             "#fdca26"
            ],
            [
             1,
             "#f0f921"
            ]
           ],
           "sequentialminus": [
            [
             0,
             "#0d0887"
            ],
            [
             0.1111111111111111,
             "#46039f"
            ],
            [
             0.2222222222222222,
             "#7201a8"
            ],
            [
             0.3333333333333333,
             "#9c179e"
            ],
            [
             0.4444444444444444,
             "#bd3786"
            ],
            [
             0.5555555555555556,
             "#d8576b"
            ],
            [
             0.6666666666666666,
             "#ed7953"
            ],
            [
             0.7777777777777778,
             "#fb9f3a"
            ],
            [
             0.8888888888888888,
             "#fdca26"
            ],
            [
             1,
             "#f0f921"
            ]
           ]
          },
          "colorway": [
           "#636efa",
           "#EF553B",
           "#00cc96",
           "#ab63fa",
           "#FFA15A",
           "#19d3f3",
           "#FF6692",
           "#B6E880",
           "#FF97FF",
           "#FECB52"
          ],
          "font": {
           "color": "#2a3f5f"
          },
          "geo": {
           "bgcolor": "white",
           "lakecolor": "white",
           "landcolor": "#E5ECF6",
           "showlakes": true,
           "showland": true,
           "subunitcolor": "white"
          },
          "hoverlabel": {
           "align": "left"
          },
          "hovermode": "closest",
          "mapbox": {
           "style": "light"
          },
          "paper_bgcolor": "white",
          "plot_bgcolor": "#E5ECF6",
          "polar": {
           "angularaxis": {
            "gridcolor": "white",
            "linecolor": "white",
            "ticks": ""
           },
           "bgcolor": "#E5ECF6",
           "radialaxis": {
            "gridcolor": "white",
            "linecolor": "white",
            "ticks": ""
           }
          },
          "scene": {
           "xaxis": {
            "backgroundcolor": "#E5ECF6",
            "gridcolor": "white",
            "gridwidth": 2,
            "linecolor": "white",
            "showbackground": true,
            "ticks": "",
            "zerolinecolor": "white"
           },
           "yaxis": {
            "backgroundcolor": "#E5ECF6",
            "gridcolor": "white",
            "gridwidth": 2,
            "linecolor": "white",
            "showbackground": true,
            "ticks": "",
            "zerolinecolor": "white"
           },
           "zaxis": {
            "backgroundcolor": "#E5ECF6",
            "gridcolor": "white",
            "gridwidth": 2,
            "linecolor": "white",
            "showbackground": true,
            "ticks": "",
            "zerolinecolor": "white"
           }
          },
          "shapedefaults": {
           "line": {
            "color": "#2a3f5f"
           }
          },
          "ternary": {
           "aaxis": {
            "gridcolor": "white",
            "linecolor": "white",
            "ticks": ""
           },
           "baxis": {
            "gridcolor": "white",
            "linecolor": "white",
            "ticks": ""
           },
           "bgcolor": "#E5ECF6",
           "caxis": {
            "gridcolor": "white",
            "linecolor": "white",
            "ticks": ""
           }
          },
          "title": {
           "x": 0.05
          },
          "xaxis": {
           "automargin": true,
           "gridcolor": "white",
           "linecolor": "white",
           "ticks": "",
           "title": {
            "standoff": 15
           },
           "zerolinecolor": "white",
           "zerolinewidth": 2
          },
          "yaxis": {
           "automargin": true,
           "gridcolor": "white",
           "linecolor": "white",
           "ticks": "",
           "title": {
            "standoff": 15
           },
           "zerolinecolor": "white",
           "zerolinewidth": 2
          }
         }
        },
        "title": {
         "text": "Error Price (%)"
        }
       }
      },
      "text/html": [
       "<div>\n",
       "        \n",
       "        \n",
       "            <div id=\"dcae5345-1883-489a-8dee-a5066ea0cb12\" class=\"plotly-graph-div\" style=\"height:525px; width:100%;\"></div>\n",
       "            <script type=\"text/javascript\">\n",
       "                require([\"plotly\"], function(Plotly) {\n",
       "                    window.PLOTLYENV=window.PLOTLYENV || {};\n",
       "                    \n",
       "                if (document.getElementById(\"dcae5345-1883-489a-8dee-a5066ea0cb12\")) {\n",
       "                    Plotly.newPlot(\n",
       "                        'dcae5345-1883-489a-8dee-a5066ea0cb12',\n",
       "                        [{\"name\": \"VAR\", \"type\": \"bar\", \"x\": [\"BTS\", \"CPF\", \"PTTEP\", \"SCC\", \"TVO\"], \"y\": [3.635622257389319, 3.4181707157889076, 5.751353709993465, 2.9494550703529376, 2.9945726605714666]}, {\"name\": \"CNN+LSTM\", \"type\": \"bar\", \"x\": [\"BTS\", \"CPF\", \"PTTEP\", \"SCC\", \"TVO\"], \"y\": [2.0410574664443586, 2.458837537370632, 3.1657611729947654, 2.2500781766104065, 2.0896720629548575]}],\n",
       "                        {\"template\": {\"data\": {\"bar\": [{\"error_x\": {\"color\": \"#2a3f5f\"}, \"error_y\": {\"color\": \"#2a3f5f\"}, \"marker\": {\"line\": {\"color\": \"#E5ECF6\", \"width\": 0.5}}, \"type\": \"bar\"}], \"barpolar\": [{\"marker\": {\"line\": {\"color\": \"#E5ECF6\", \"width\": 0.5}}, \"type\": \"barpolar\"}], \"carpet\": [{\"aaxis\": {\"endlinecolor\": \"#2a3f5f\", \"gridcolor\": \"white\", \"linecolor\": \"white\", \"minorgridcolor\": \"white\", \"startlinecolor\": \"#2a3f5f\"}, \"baxis\": {\"endlinecolor\": \"#2a3f5f\", \"gridcolor\": \"white\", \"linecolor\": \"white\", \"minorgridcolor\": \"white\", \"startlinecolor\": \"#2a3f5f\"}, \"type\": \"carpet\"}], \"choropleth\": [{\"colorbar\": {\"outlinewidth\": 0, \"ticks\": \"\"}, \"type\": \"choropleth\"}], \"contour\": [{\"colorbar\": {\"outlinewidth\": 0, \"ticks\": \"\"}, \"colorscale\": [[0.0, \"#0d0887\"], [0.1111111111111111, \"#46039f\"], [0.2222222222222222, \"#7201a8\"], [0.3333333333333333, \"#9c179e\"], [0.4444444444444444, \"#bd3786\"], [0.5555555555555556, \"#d8576b\"], [0.6666666666666666, \"#ed7953\"], [0.7777777777777778, \"#fb9f3a\"], [0.8888888888888888, \"#fdca26\"], [1.0, \"#f0f921\"]], \"type\": \"contour\"}], \"contourcarpet\": [{\"colorbar\": {\"outlinewidth\": 0, \"ticks\": \"\"}, \"type\": \"contourcarpet\"}], \"heatmap\": [{\"colorbar\": {\"outlinewidth\": 0, \"ticks\": \"\"}, \"colorscale\": [[0.0, \"#0d0887\"], [0.1111111111111111, \"#46039f\"], [0.2222222222222222, \"#7201a8\"], [0.3333333333333333, \"#9c179e\"], [0.4444444444444444, \"#bd3786\"], [0.5555555555555556, \"#d8576b\"], [0.6666666666666666, \"#ed7953\"], [0.7777777777777778, \"#fb9f3a\"], [0.8888888888888888, \"#fdca26\"], [1.0, \"#f0f921\"]], \"type\": \"heatmap\"}], \"heatmapgl\": [{\"colorbar\": {\"outlinewidth\": 0, \"ticks\": \"\"}, \"colorscale\": [[0.0, \"#0d0887\"], [0.1111111111111111, \"#46039f\"], [0.2222222222222222, \"#7201a8\"], [0.3333333333333333, \"#9c179e\"], [0.4444444444444444, \"#bd3786\"], [0.5555555555555556, \"#d8576b\"], [0.6666666666666666, \"#ed7953\"], [0.7777777777777778, \"#fb9f3a\"], [0.8888888888888888, \"#fdca26\"], [1.0, \"#f0f921\"]], \"type\": \"heatmapgl\"}], \"histogram\": [{\"marker\": {\"colorbar\": {\"outlinewidth\": 0, \"ticks\": \"\"}}, \"type\": \"histogram\"}], \"histogram2d\": [{\"colorbar\": {\"outlinewidth\": 0, \"ticks\": \"\"}, \"colorscale\": [[0.0, \"#0d0887\"], [0.1111111111111111, \"#46039f\"], [0.2222222222222222, \"#7201a8\"], [0.3333333333333333, \"#9c179e\"], [0.4444444444444444, \"#bd3786\"], [0.5555555555555556, \"#d8576b\"], [0.6666666666666666, \"#ed7953\"], [0.7777777777777778, \"#fb9f3a\"], [0.8888888888888888, \"#fdca26\"], [1.0, \"#f0f921\"]], \"type\": \"histogram2d\"}], \"histogram2dcontour\": [{\"colorbar\": {\"outlinewidth\": 0, \"ticks\": \"\"}, \"colorscale\": [[0.0, \"#0d0887\"], [0.1111111111111111, \"#46039f\"], [0.2222222222222222, \"#7201a8\"], [0.3333333333333333, \"#9c179e\"], [0.4444444444444444, \"#bd3786\"], [0.5555555555555556, \"#d8576b\"], [0.6666666666666666, \"#ed7953\"], [0.7777777777777778, \"#fb9f3a\"], [0.8888888888888888, \"#fdca26\"], [1.0, \"#f0f921\"]], \"type\": \"histogram2dcontour\"}], \"mesh3d\": [{\"colorbar\": {\"outlinewidth\": 0, \"ticks\": \"\"}, \"type\": \"mesh3d\"}], \"parcoords\": [{\"line\": {\"colorbar\": {\"outlinewidth\": 0, \"ticks\": \"\"}}, \"type\": \"parcoords\"}], \"pie\": [{\"automargin\": true, \"type\": \"pie\"}], \"scatter\": [{\"marker\": {\"colorbar\": {\"outlinewidth\": 0, \"ticks\": \"\"}}, \"type\": \"scatter\"}], \"scatter3d\": [{\"line\": {\"colorbar\": {\"outlinewidth\": 0, \"ticks\": \"\"}}, \"marker\": {\"colorbar\": {\"outlinewidth\": 0, \"ticks\": \"\"}}, \"type\": \"scatter3d\"}], \"scattercarpet\": [{\"marker\": {\"colorbar\": {\"outlinewidth\": 0, \"ticks\": \"\"}}, \"type\": \"scattercarpet\"}], \"scattergeo\": [{\"marker\": {\"colorbar\": {\"outlinewidth\": 0, \"ticks\": \"\"}}, \"type\": \"scattergeo\"}], \"scattergl\": [{\"marker\": {\"colorbar\": {\"outlinewidth\": 0, \"ticks\": \"\"}}, \"type\": \"scattergl\"}], \"scattermapbox\": [{\"marker\": {\"colorbar\": {\"outlinewidth\": 0, \"ticks\": \"\"}}, \"type\": \"scattermapbox\"}], \"scatterpolar\": [{\"marker\": {\"colorbar\": {\"outlinewidth\": 0, \"ticks\": \"\"}}, \"type\": \"scatterpolar\"}], \"scatterpolargl\": [{\"marker\": {\"colorbar\": {\"outlinewidth\": 0, \"ticks\": \"\"}}, \"type\": \"scatterpolargl\"}], \"scatterternary\": [{\"marker\": {\"colorbar\": {\"outlinewidth\": 0, \"ticks\": \"\"}}, \"type\": \"scatterternary\"}], \"surface\": [{\"colorbar\": {\"outlinewidth\": 0, \"ticks\": \"\"}, \"colorscale\": [[0.0, \"#0d0887\"], [0.1111111111111111, \"#46039f\"], [0.2222222222222222, \"#7201a8\"], [0.3333333333333333, \"#9c179e\"], [0.4444444444444444, \"#bd3786\"], [0.5555555555555556, \"#d8576b\"], [0.6666666666666666, \"#ed7953\"], [0.7777777777777778, \"#fb9f3a\"], [0.8888888888888888, \"#fdca26\"], [1.0, \"#f0f921\"]], \"type\": \"surface\"}], \"table\": [{\"cells\": {\"fill\": {\"color\": \"#EBF0F8\"}, \"line\": {\"color\": \"white\"}}, \"header\": {\"fill\": {\"color\": \"#C8D4E3\"}, \"line\": {\"color\": \"white\"}}, \"type\": \"table\"}]}, \"layout\": {\"annotationdefaults\": {\"arrowcolor\": \"#2a3f5f\", \"arrowhead\": 0, \"arrowwidth\": 1}, \"coloraxis\": {\"colorbar\": {\"outlinewidth\": 0, \"ticks\": \"\"}}, \"colorscale\": {\"diverging\": [[0, \"#8e0152\"], [0.1, \"#c51b7d\"], [0.2, \"#de77ae\"], [0.3, \"#f1b6da\"], [0.4, \"#fde0ef\"], [0.5, \"#f7f7f7\"], [0.6, \"#e6f5d0\"], [0.7, \"#b8e186\"], [0.8, \"#7fbc41\"], [0.9, \"#4d9221\"], [1, \"#276419\"]], \"sequential\": [[0.0, \"#0d0887\"], [0.1111111111111111, \"#46039f\"], [0.2222222222222222, \"#7201a8\"], [0.3333333333333333, \"#9c179e\"], [0.4444444444444444, \"#bd3786\"], [0.5555555555555556, \"#d8576b\"], [0.6666666666666666, \"#ed7953\"], [0.7777777777777778, \"#fb9f3a\"], [0.8888888888888888, \"#fdca26\"], [1.0, \"#f0f921\"]], \"sequentialminus\": [[0.0, \"#0d0887\"], [0.1111111111111111, \"#46039f\"], [0.2222222222222222, \"#7201a8\"], [0.3333333333333333, \"#9c179e\"], [0.4444444444444444, \"#bd3786\"], [0.5555555555555556, \"#d8576b\"], [0.6666666666666666, \"#ed7953\"], [0.7777777777777778, \"#fb9f3a\"], [0.8888888888888888, \"#fdca26\"], [1.0, \"#f0f921\"]]}, \"colorway\": [\"#636efa\", \"#EF553B\", \"#00cc96\", \"#ab63fa\", \"#FFA15A\", \"#19d3f3\", \"#FF6692\", \"#B6E880\", \"#FF97FF\", \"#FECB52\"], \"font\": {\"color\": \"#2a3f5f\"}, \"geo\": {\"bgcolor\": \"white\", \"lakecolor\": \"white\", \"landcolor\": \"#E5ECF6\", \"showlakes\": true, \"showland\": true, \"subunitcolor\": \"white\"}, \"hoverlabel\": {\"align\": \"left\"}, \"hovermode\": \"closest\", \"mapbox\": {\"style\": \"light\"}, \"paper_bgcolor\": \"white\", \"plot_bgcolor\": \"#E5ECF6\", \"polar\": {\"angularaxis\": {\"gridcolor\": \"white\", \"linecolor\": \"white\", \"ticks\": \"\"}, \"bgcolor\": \"#E5ECF6\", \"radialaxis\": {\"gridcolor\": \"white\", \"linecolor\": \"white\", \"ticks\": \"\"}}, \"scene\": {\"xaxis\": {\"backgroundcolor\": \"#E5ECF6\", \"gridcolor\": \"white\", \"gridwidth\": 2, \"linecolor\": \"white\", \"showbackground\": true, \"ticks\": \"\", \"zerolinecolor\": \"white\"}, \"yaxis\": {\"backgroundcolor\": \"#E5ECF6\", \"gridcolor\": \"white\", \"gridwidth\": 2, \"linecolor\": \"white\", \"showbackground\": true, \"ticks\": \"\", \"zerolinecolor\": \"white\"}, \"zaxis\": {\"backgroundcolor\": \"#E5ECF6\", \"gridcolor\": \"white\", \"gridwidth\": 2, \"linecolor\": \"white\", \"showbackground\": true, \"ticks\": \"\", \"zerolinecolor\": \"white\"}}, \"shapedefaults\": {\"line\": {\"color\": \"#2a3f5f\"}}, \"ternary\": {\"aaxis\": {\"gridcolor\": \"white\", \"linecolor\": \"white\", \"ticks\": \"\"}, \"baxis\": {\"gridcolor\": \"white\", \"linecolor\": \"white\", \"ticks\": \"\"}, \"bgcolor\": \"#E5ECF6\", \"caxis\": {\"gridcolor\": \"white\", \"linecolor\": \"white\", \"ticks\": \"\"}}, \"title\": {\"x\": 0.05}, \"xaxis\": {\"automargin\": true, \"gridcolor\": \"white\", \"linecolor\": \"white\", \"ticks\": \"\", \"title\": {\"standoff\": 15}, \"zerolinecolor\": \"white\", \"zerolinewidth\": 2}, \"yaxis\": {\"automargin\": true, \"gridcolor\": \"white\", \"linecolor\": \"white\", \"ticks\": \"\", \"title\": {\"standoff\": 15}, \"zerolinecolor\": \"white\", \"zerolinewidth\": 2}}}, \"title\": {\"text\": \"Error Price (%)\"}},\n",
       "                        {\"responsive\": true}\n",
       "                    ).then(function(){\n",
       "                            \n",
       "var gd = document.getElementById('dcae5345-1883-489a-8dee-a5066ea0cb12');\n",
       "var x = new MutationObserver(function (mutations, observer) {{\n",
       "        var display = window.getComputedStyle(gd).display;\n",
       "        if (!display || display === 'none') {{\n",
       "            console.log([gd, 'removed!']);\n",
       "            Plotly.purge(gd);\n",
       "            observer.disconnect();\n",
       "        }}\n",
       "}});\n",
       "\n",
       "// Listen for the removal of the full notebook cells\n",
       "var notebookContainer = gd.closest('#notebook-container');\n",
       "if (notebookContainer) {{\n",
       "    x.observe(notebookContainer, {childList: true});\n",
       "}}\n",
       "\n",
       "// Listen for the clearing of the current output cell\n",
       "var outputEl = gd.closest('.output');\n",
       "if (outputEl) {{\n",
       "    x.observe(outputEl, {childList: true});\n",
       "}}\n",
       "\n",
       "                        })\n",
       "                };\n",
       "                });\n",
       "            </script>\n",
       "        </div>"
      ]
     },
     "metadata": {},
     "output_type": "display_data"
    }
   ],
   "source": [
    "\n",
    "fig = go.Figure()\n",
    "# fig = px.bar( x=histo_error1.index ,y=histo_error1['mape (Mean absolute percentage error) (VAR)'], labels={'x':'total_bill', 'y':'count'})\n",
    "fig.add_trace( go.Bar(name='VAR' ,x=histo_error1.index ,y=histo_error1['mape (Mean absolute percentage error) (VAR)'])  )\n",
    "fig.add_trace( go.Bar( name='CNN+LSTM',x=histo_error1.index ,y=histo_error1['mape (Mean absolute percentage error) (CNN+LSTM)'])  )\n",
    "# fig.add_trace(go.Bar( x=histo_error1.index ,y=histo_error1['mape (Mean absolute percentage error) (CNN+LSTM)'], labels={'x':'total_bill', 'y':'count'}))\n",
    "fig.update_layout(title_text='Error Price (%)')\n",
    "fig.show()"
   ]
  },
  {
   "cell_type": "code",
   "execution_count": 198,
   "metadata": {},
   "outputs": [],
   "source": [
    "histo_VAR_error2 = pd.DataFrame([BTS_accuracy_trend_VAR,\n",
    "                                CPF_accuracy_trend_VAR,\n",
    "                                PTTEP_accuracy_trend_VAR,\n",
    "                                SCC_accuracy_trend_VAR,\n",
    "                                TVO_accuracy_trend_VAR]\n",
    "                               \n",
    "                              ,columns=[mapeVAR]\n",
    "                               ,index=['BTS','CPF','PTTEP','SCC','TVO']\n",
    "                            )\n",
    "histo_CL_error2 =pd.DataFrame([BTS_accuracy_trend_CNNLSTM,\n",
    "                                CPF_accuracy_trend_CNNLSTM,\n",
    "                                PTTEP_accuracy_trend_CNNLSTM,\n",
    "                                SCC_accuracy_trend_CNNLSTM,\n",
    "                                TVO_accuracy_trend_CNNLSTM]\n",
    "                             \n",
    "                              ,columns=[mapeCL]\n",
    "                               ,index=['BTS','CPF','PTTEP','SCC','TVO']\n",
    "                            )\n",
    "histo_error2 = histo_VAR_error2.join(histo_CL_error2)\n",
    "histo_error2.index.names = ['Stocks']"
   ]
  },
  {
   "cell_type": "code",
   "execution_count": 199,
   "metadata": {},
   "outputs": [
    {
     "data": {
      "application/vnd.plotly.v1+json": {
       "config": {
        "plotlyServerURL": "https://plot.ly"
       },
       "data": [
        {
         "name": "VAR",
         "type": "bar",
         "x": [
          "BTS",
          "CPF",
          "PTTEP",
          "SCC",
          "TVO"
         ],
         "y": [
          2.691628670715625,
          1.7359169068922813,
          4.913265642611139,
          2.2381500132205407,
          2.502490501574131
         ]
        },
        {
         "name": "CNN+LSTM",
         "type": "bar",
         "x": [
          "BTS",
          "CPF",
          "PTTEP",
          "SCC",
          "TVO"
         ],
         "y": [
          1.2624293870886945,
          1.4421699487203405,
          1.6163638070707445,
          1.6157416106641782,
          1.444752113636258
         ]
        }
       ],
       "layout": {
        "template": {
         "data": {
          "bar": [
           {
            "error_x": {
             "color": "#2a3f5f"
            },
            "error_y": {
             "color": "#2a3f5f"
            },
            "marker": {
             "line": {
              "color": "#E5ECF6",
              "width": 0.5
             }
            },
            "type": "bar"
           }
          ],
          "barpolar": [
           {
            "marker": {
             "line": {
              "color": "#E5ECF6",
              "width": 0.5
             }
            },
            "type": "barpolar"
           }
          ],
          "carpet": [
           {
            "aaxis": {
             "endlinecolor": "#2a3f5f",
             "gridcolor": "white",
             "linecolor": "white",
             "minorgridcolor": "white",
             "startlinecolor": "#2a3f5f"
            },
            "baxis": {
             "endlinecolor": "#2a3f5f",
             "gridcolor": "white",
             "linecolor": "white",
             "minorgridcolor": "white",
             "startlinecolor": "#2a3f5f"
            },
            "type": "carpet"
           }
          ],
          "choropleth": [
           {
            "colorbar": {
             "outlinewidth": 0,
             "ticks": ""
            },
            "type": "choropleth"
           }
          ],
          "contour": [
           {
            "colorbar": {
             "outlinewidth": 0,
             "ticks": ""
            },
            "colorscale": [
             [
              0,
              "#0d0887"
             ],
             [
              0.1111111111111111,
              "#46039f"
             ],
             [
              0.2222222222222222,
              "#7201a8"
             ],
             [
              0.3333333333333333,
              "#9c179e"
             ],
             [
              0.4444444444444444,
              "#bd3786"
             ],
             [
              0.5555555555555556,
              "#d8576b"
             ],
             [
              0.6666666666666666,
              "#ed7953"
             ],
             [
              0.7777777777777778,
              "#fb9f3a"
             ],
             [
              0.8888888888888888,
              "#fdca26"
             ],
             [
              1,
              "#f0f921"
             ]
            ],
            "type": "contour"
           }
          ],
          "contourcarpet": [
           {
            "colorbar": {
             "outlinewidth": 0,
             "ticks": ""
            },
            "type": "contourcarpet"
           }
          ],
          "heatmap": [
           {
            "colorbar": {
             "outlinewidth": 0,
             "ticks": ""
            },
            "colorscale": [
             [
              0,
              "#0d0887"
             ],
             [
              0.1111111111111111,
              "#46039f"
             ],
             [
              0.2222222222222222,
              "#7201a8"
             ],
             [
              0.3333333333333333,
              "#9c179e"
             ],
             [
              0.4444444444444444,
              "#bd3786"
             ],
             [
              0.5555555555555556,
              "#d8576b"
             ],
             [
              0.6666666666666666,
              "#ed7953"
             ],
             [
              0.7777777777777778,
              "#fb9f3a"
             ],
             [
              0.8888888888888888,
              "#fdca26"
             ],
             [
              1,
              "#f0f921"
             ]
            ],
            "type": "heatmap"
           }
          ],
          "heatmapgl": [
           {
            "colorbar": {
             "outlinewidth": 0,
             "ticks": ""
            },
            "colorscale": [
             [
              0,
              "#0d0887"
             ],
             [
              0.1111111111111111,
              "#46039f"
             ],
             [
              0.2222222222222222,
              "#7201a8"
             ],
             [
              0.3333333333333333,
              "#9c179e"
             ],
             [
              0.4444444444444444,
              "#bd3786"
             ],
             [
              0.5555555555555556,
              "#d8576b"
             ],
             [
              0.6666666666666666,
              "#ed7953"
             ],
             [
              0.7777777777777778,
              "#fb9f3a"
             ],
             [
              0.8888888888888888,
              "#fdca26"
             ],
             [
              1,
              "#f0f921"
             ]
            ],
            "type": "heatmapgl"
           }
          ],
          "histogram": [
           {
            "marker": {
             "colorbar": {
              "outlinewidth": 0,
              "ticks": ""
             }
            },
            "type": "histogram"
           }
          ],
          "histogram2d": [
           {
            "colorbar": {
             "outlinewidth": 0,
             "ticks": ""
            },
            "colorscale": [
             [
              0,
              "#0d0887"
             ],
             [
              0.1111111111111111,
              "#46039f"
             ],
             [
              0.2222222222222222,
              "#7201a8"
             ],
             [
              0.3333333333333333,
              "#9c179e"
             ],
             [
              0.4444444444444444,
              "#bd3786"
             ],
             [
              0.5555555555555556,
              "#d8576b"
             ],
             [
              0.6666666666666666,
              "#ed7953"
             ],
             [
              0.7777777777777778,
              "#fb9f3a"
             ],
             [
              0.8888888888888888,
              "#fdca26"
             ],
             [
              1,
              "#f0f921"
             ]
            ],
            "type": "histogram2d"
           }
          ],
          "histogram2dcontour": [
           {
            "colorbar": {
             "outlinewidth": 0,
             "ticks": ""
            },
            "colorscale": [
             [
              0,
              "#0d0887"
             ],
             [
              0.1111111111111111,
              "#46039f"
             ],
             [
              0.2222222222222222,
              "#7201a8"
             ],
             [
              0.3333333333333333,
              "#9c179e"
             ],
             [
              0.4444444444444444,
              "#bd3786"
             ],
             [
              0.5555555555555556,
              "#d8576b"
             ],
             [
              0.6666666666666666,
              "#ed7953"
             ],
             [
              0.7777777777777778,
              "#fb9f3a"
             ],
             [
              0.8888888888888888,
              "#fdca26"
             ],
             [
              1,
              "#f0f921"
             ]
            ],
            "type": "histogram2dcontour"
           }
          ],
          "mesh3d": [
           {
            "colorbar": {
             "outlinewidth": 0,
             "ticks": ""
            },
            "type": "mesh3d"
           }
          ],
          "parcoords": [
           {
            "line": {
             "colorbar": {
              "outlinewidth": 0,
              "ticks": ""
             }
            },
            "type": "parcoords"
           }
          ],
          "pie": [
           {
            "automargin": true,
            "type": "pie"
           }
          ],
          "scatter": [
           {
            "marker": {
             "colorbar": {
              "outlinewidth": 0,
              "ticks": ""
             }
            },
            "type": "scatter"
           }
          ],
          "scatter3d": [
           {
            "line": {
             "colorbar": {
              "outlinewidth": 0,
              "ticks": ""
             }
            },
            "marker": {
             "colorbar": {
              "outlinewidth": 0,
              "ticks": ""
             }
            },
            "type": "scatter3d"
           }
          ],
          "scattercarpet": [
           {
            "marker": {
             "colorbar": {
              "outlinewidth": 0,
              "ticks": ""
             }
            },
            "type": "scattercarpet"
           }
          ],
          "scattergeo": [
           {
            "marker": {
             "colorbar": {
              "outlinewidth": 0,
              "ticks": ""
             }
            },
            "type": "scattergeo"
           }
          ],
          "scattergl": [
           {
            "marker": {
             "colorbar": {
              "outlinewidth": 0,
              "ticks": ""
             }
            },
            "type": "scattergl"
           }
          ],
          "scattermapbox": [
           {
            "marker": {
             "colorbar": {
              "outlinewidth": 0,
              "ticks": ""
             }
            },
            "type": "scattermapbox"
           }
          ],
          "scatterpolar": [
           {
            "marker": {
             "colorbar": {
              "outlinewidth": 0,
              "ticks": ""
             }
            },
            "type": "scatterpolar"
           }
          ],
          "scatterpolargl": [
           {
            "marker": {
             "colorbar": {
              "outlinewidth": 0,
              "ticks": ""
             }
            },
            "type": "scatterpolargl"
           }
          ],
          "scatterternary": [
           {
            "marker": {
             "colorbar": {
              "outlinewidth": 0,
              "ticks": ""
             }
            },
            "type": "scatterternary"
           }
          ],
          "surface": [
           {
            "colorbar": {
             "outlinewidth": 0,
             "ticks": ""
            },
            "colorscale": [
             [
              0,
              "#0d0887"
             ],
             [
              0.1111111111111111,
              "#46039f"
             ],
             [
              0.2222222222222222,
              "#7201a8"
             ],
             [
              0.3333333333333333,
              "#9c179e"
             ],
             [
              0.4444444444444444,
              "#bd3786"
             ],
             [
              0.5555555555555556,
              "#d8576b"
             ],
             [
              0.6666666666666666,
              "#ed7953"
             ],
             [
              0.7777777777777778,
              "#fb9f3a"
             ],
             [
              0.8888888888888888,
              "#fdca26"
             ],
             [
              1,
              "#f0f921"
             ]
            ],
            "type": "surface"
           }
          ],
          "table": [
           {
            "cells": {
             "fill": {
              "color": "#EBF0F8"
             },
             "line": {
              "color": "white"
             }
            },
            "header": {
             "fill": {
              "color": "#C8D4E3"
             },
             "line": {
              "color": "white"
             }
            },
            "type": "table"
           }
          ]
         },
         "layout": {
          "annotationdefaults": {
           "arrowcolor": "#2a3f5f",
           "arrowhead": 0,
           "arrowwidth": 1
          },
          "coloraxis": {
           "colorbar": {
            "outlinewidth": 0,
            "ticks": ""
           }
          },
          "colorscale": {
           "diverging": [
            [
             0,
             "#8e0152"
            ],
            [
             0.1,
             "#c51b7d"
            ],
            [
             0.2,
             "#de77ae"
            ],
            [
             0.3,
             "#f1b6da"
            ],
            [
             0.4,
             "#fde0ef"
            ],
            [
             0.5,
             "#f7f7f7"
            ],
            [
             0.6,
             "#e6f5d0"
            ],
            [
             0.7,
             "#b8e186"
            ],
            [
             0.8,
             "#7fbc41"
            ],
            [
             0.9,
             "#4d9221"
            ],
            [
             1,
             "#276419"
            ]
           ],
           "sequential": [
            [
             0,
             "#0d0887"
            ],
            [
             0.1111111111111111,
             "#46039f"
            ],
            [
             0.2222222222222222,
             "#7201a8"
            ],
            [
             0.3333333333333333,
             "#9c179e"
            ],
            [
             0.4444444444444444,
             "#bd3786"
            ],
            [
             0.5555555555555556,
             "#d8576b"
            ],
            [
             0.6666666666666666,
             "#ed7953"
            ],
            [
             0.7777777777777778,
             "#fb9f3a"
            ],
            [
             0.8888888888888888,
             "#fdca26"
            ],
            [
             1,
             "#f0f921"
            ]
           ],
           "sequentialminus": [
            [
             0,
             "#0d0887"
            ],
            [
             0.1111111111111111,
             "#46039f"
            ],
            [
             0.2222222222222222,
             "#7201a8"
            ],
            [
             0.3333333333333333,
             "#9c179e"
            ],
            [
             0.4444444444444444,
             "#bd3786"
            ],
            [
             0.5555555555555556,
             "#d8576b"
            ],
            [
             0.6666666666666666,
             "#ed7953"
            ],
            [
             0.7777777777777778,
             "#fb9f3a"
            ],
            [
             0.8888888888888888,
             "#fdca26"
            ],
            [
             1,
             "#f0f921"
            ]
           ]
          },
          "colorway": [
           "#636efa",
           "#EF553B",
           "#00cc96",
           "#ab63fa",
           "#FFA15A",
           "#19d3f3",
           "#FF6692",
           "#B6E880",
           "#FF97FF",
           "#FECB52"
          ],
          "font": {
           "color": "#2a3f5f"
          },
          "geo": {
           "bgcolor": "white",
           "lakecolor": "white",
           "landcolor": "#E5ECF6",
           "showlakes": true,
           "showland": true,
           "subunitcolor": "white"
          },
          "hoverlabel": {
           "align": "left"
          },
          "hovermode": "closest",
          "mapbox": {
           "style": "light"
          },
          "paper_bgcolor": "white",
          "plot_bgcolor": "#E5ECF6",
          "polar": {
           "angularaxis": {
            "gridcolor": "white",
            "linecolor": "white",
            "ticks": ""
           },
           "bgcolor": "#E5ECF6",
           "radialaxis": {
            "gridcolor": "white",
            "linecolor": "white",
            "ticks": ""
           }
          },
          "scene": {
           "xaxis": {
            "backgroundcolor": "#E5ECF6",
            "gridcolor": "white",
            "gridwidth": 2,
            "linecolor": "white",
            "showbackground": true,
            "ticks": "",
            "zerolinecolor": "white"
           },
           "yaxis": {
            "backgroundcolor": "#E5ECF6",
            "gridcolor": "white",
            "gridwidth": 2,
            "linecolor": "white",
            "showbackground": true,
            "ticks": "",
            "zerolinecolor": "white"
           },
           "zaxis": {
            "backgroundcolor": "#E5ECF6",
            "gridcolor": "white",
            "gridwidth": 2,
            "linecolor": "white",
            "showbackground": true,
            "ticks": "",
            "zerolinecolor": "white"
           }
          },
          "shapedefaults": {
           "line": {
            "color": "#2a3f5f"
           }
          },
          "ternary": {
           "aaxis": {
            "gridcolor": "white",
            "linecolor": "white",
            "ticks": ""
           },
           "baxis": {
            "gridcolor": "white",
            "linecolor": "white",
            "ticks": ""
           },
           "bgcolor": "#E5ECF6",
           "caxis": {
            "gridcolor": "white",
            "linecolor": "white",
            "ticks": ""
           }
          },
          "title": {
           "x": 0.05
          },
          "xaxis": {
           "automargin": true,
           "gridcolor": "white",
           "linecolor": "white",
           "ticks": "",
           "title": {
            "standoff": 15
           },
           "zerolinecolor": "white",
           "zerolinewidth": 2
          },
          "yaxis": {
           "automargin": true,
           "gridcolor": "white",
           "linecolor": "white",
           "ticks": "",
           "title": {
            "standoff": 15
           },
           "zerolinecolor": "white",
           "zerolinewidth": 2
          }
         }
        },
        "title": {
         "text": "Error Trend (%)"
        }
       }
      },
      "text/html": [
       "<div>\n",
       "        \n",
       "        \n",
       "            <div id=\"c2f2f726-9677-4c1f-8d39-1a093cde8efb\" class=\"plotly-graph-div\" style=\"height:525px; width:100%;\"></div>\n",
       "            <script type=\"text/javascript\">\n",
       "                require([\"plotly\"], function(Plotly) {\n",
       "                    window.PLOTLYENV=window.PLOTLYENV || {};\n",
       "                    \n",
       "                if (document.getElementById(\"c2f2f726-9677-4c1f-8d39-1a093cde8efb\")) {\n",
       "                    Plotly.newPlot(\n",
       "                        'c2f2f726-9677-4c1f-8d39-1a093cde8efb',\n",
       "                        [{\"name\": \"VAR\", \"type\": \"bar\", \"x\": [\"BTS\", \"CPF\", \"PTTEP\", \"SCC\", \"TVO\"], \"y\": [2.691628670715625, 1.7359169068922813, 4.913265642611139, 2.2381500132205407, 2.502490501574131]}, {\"name\": \"CNN+LSTM\", \"type\": \"bar\", \"x\": [\"BTS\", \"CPF\", \"PTTEP\", \"SCC\", \"TVO\"], \"y\": [1.2624293870886945, 1.4421699487203405, 1.6163638070707445, 1.6157416106641782, 1.444752113636258]}],\n",
       "                        {\"template\": {\"data\": {\"bar\": [{\"error_x\": {\"color\": \"#2a3f5f\"}, \"error_y\": {\"color\": \"#2a3f5f\"}, \"marker\": {\"line\": {\"color\": \"#E5ECF6\", \"width\": 0.5}}, \"type\": \"bar\"}], \"barpolar\": [{\"marker\": {\"line\": {\"color\": \"#E5ECF6\", \"width\": 0.5}}, \"type\": \"barpolar\"}], \"carpet\": [{\"aaxis\": {\"endlinecolor\": \"#2a3f5f\", \"gridcolor\": \"white\", \"linecolor\": \"white\", \"minorgridcolor\": \"white\", \"startlinecolor\": \"#2a3f5f\"}, \"baxis\": {\"endlinecolor\": \"#2a3f5f\", \"gridcolor\": \"white\", \"linecolor\": \"white\", \"minorgridcolor\": \"white\", \"startlinecolor\": \"#2a3f5f\"}, \"type\": \"carpet\"}], \"choropleth\": [{\"colorbar\": {\"outlinewidth\": 0, \"ticks\": \"\"}, \"type\": \"choropleth\"}], \"contour\": [{\"colorbar\": {\"outlinewidth\": 0, \"ticks\": \"\"}, \"colorscale\": [[0.0, \"#0d0887\"], [0.1111111111111111, \"#46039f\"], [0.2222222222222222, \"#7201a8\"], [0.3333333333333333, \"#9c179e\"], [0.4444444444444444, \"#bd3786\"], [0.5555555555555556, \"#d8576b\"], [0.6666666666666666, \"#ed7953\"], [0.7777777777777778, \"#fb9f3a\"], [0.8888888888888888, \"#fdca26\"], [1.0, \"#f0f921\"]], \"type\": \"contour\"}], \"contourcarpet\": [{\"colorbar\": {\"outlinewidth\": 0, \"ticks\": \"\"}, \"type\": \"contourcarpet\"}], \"heatmap\": [{\"colorbar\": {\"outlinewidth\": 0, \"ticks\": \"\"}, \"colorscale\": [[0.0, \"#0d0887\"], [0.1111111111111111, \"#46039f\"], [0.2222222222222222, \"#7201a8\"], [0.3333333333333333, \"#9c179e\"], [0.4444444444444444, \"#bd3786\"], [0.5555555555555556, \"#d8576b\"], [0.6666666666666666, \"#ed7953\"], [0.7777777777777778, \"#fb9f3a\"], [0.8888888888888888, \"#fdca26\"], [1.0, \"#f0f921\"]], \"type\": \"heatmap\"}], \"heatmapgl\": [{\"colorbar\": {\"outlinewidth\": 0, \"ticks\": \"\"}, \"colorscale\": [[0.0, \"#0d0887\"], [0.1111111111111111, \"#46039f\"], [0.2222222222222222, \"#7201a8\"], [0.3333333333333333, \"#9c179e\"], [0.4444444444444444, \"#bd3786\"], [0.5555555555555556, \"#d8576b\"], [0.6666666666666666, \"#ed7953\"], [0.7777777777777778, \"#fb9f3a\"], [0.8888888888888888, \"#fdca26\"], [1.0, \"#f0f921\"]], \"type\": \"heatmapgl\"}], \"histogram\": [{\"marker\": {\"colorbar\": {\"outlinewidth\": 0, \"ticks\": \"\"}}, \"type\": \"histogram\"}], \"histogram2d\": [{\"colorbar\": {\"outlinewidth\": 0, \"ticks\": \"\"}, \"colorscale\": [[0.0, \"#0d0887\"], [0.1111111111111111, \"#46039f\"], [0.2222222222222222, \"#7201a8\"], [0.3333333333333333, \"#9c179e\"], [0.4444444444444444, \"#bd3786\"], [0.5555555555555556, \"#d8576b\"], [0.6666666666666666, \"#ed7953\"], [0.7777777777777778, \"#fb9f3a\"], [0.8888888888888888, \"#fdca26\"], [1.0, \"#f0f921\"]], \"type\": \"histogram2d\"}], \"histogram2dcontour\": [{\"colorbar\": {\"outlinewidth\": 0, \"ticks\": \"\"}, \"colorscale\": [[0.0, \"#0d0887\"], [0.1111111111111111, \"#46039f\"], [0.2222222222222222, \"#7201a8\"], [0.3333333333333333, \"#9c179e\"], [0.4444444444444444, \"#bd3786\"], [0.5555555555555556, \"#d8576b\"], [0.6666666666666666, \"#ed7953\"], [0.7777777777777778, \"#fb9f3a\"], [0.8888888888888888, \"#fdca26\"], [1.0, \"#f0f921\"]], \"type\": \"histogram2dcontour\"}], \"mesh3d\": [{\"colorbar\": {\"outlinewidth\": 0, \"ticks\": \"\"}, \"type\": \"mesh3d\"}], \"parcoords\": [{\"line\": {\"colorbar\": {\"outlinewidth\": 0, \"ticks\": \"\"}}, \"type\": \"parcoords\"}], \"pie\": [{\"automargin\": true, \"type\": \"pie\"}], \"scatter\": [{\"marker\": {\"colorbar\": {\"outlinewidth\": 0, \"ticks\": \"\"}}, \"type\": \"scatter\"}], \"scatter3d\": [{\"line\": {\"colorbar\": {\"outlinewidth\": 0, \"ticks\": \"\"}}, \"marker\": {\"colorbar\": {\"outlinewidth\": 0, \"ticks\": \"\"}}, \"type\": \"scatter3d\"}], \"scattercarpet\": [{\"marker\": {\"colorbar\": {\"outlinewidth\": 0, \"ticks\": \"\"}}, \"type\": \"scattercarpet\"}], \"scattergeo\": [{\"marker\": {\"colorbar\": {\"outlinewidth\": 0, \"ticks\": \"\"}}, \"type\": \"scattergeo\"}], \"scattergl\": [{\"marker\": {\"colorbar\": {\"outlinewidth\": 0, \"ticks\": \"\"}}, \"type\": \"scattergl\"}], \"scattermapbox\": [{\"marker\": {\"colorbar\": {\"outlinewidth\": 0, \"ticks\": \"\"}}, \"type\": \"scattermapbox\"}], \"scatterpolar\": [{\"marker\": {\"colorbar\": {\"outlinewidth\": 0, \"ticks\": \"\"}}, \"type\": \"scatterpolar\"}], \"scatterpolargl\": [{\"marker\": {\"colorbar\": {\"outlinewidth\": 0, \"ticks\": \"\"}}, \"type\": \"scatterpolargl\"}], \"scatterternary\": [{\"marker\": {\"colorbar\": {\"outlinewidth\": 0, \"ticks\": \"\"}}, \"type\": \"scatterternary\"}], \"surface\": [{\"colorbar\": {\"outlinewidth\": 0, \"ticks\": \"\"}, \"colorscale\": [[0.0, \"#0d0887\"], [0.1111111111111111, \"#46039f\"], [0.2222222222222222, \"#7201a8\"], [0.3333333333333333, \"#9c179e\"], [0.4444444444444444, \"#bd3786\"], [0.5555555555555556, \"#d8576b\"], [0.6666666666666666, \"#ed7953\"], [0.7777777777777778, \"#fb9f3a\"], [0.8888888888888888, \"#fdca26\"], [1.0, \"#f0f921\"]], \"type\": \"surface\"}], \"table\": [{\"cells\": {\"fill\": {\"color\": \"#EBF0F8\"}, \"line\": {\"color\": \"white\"}}, \"header\": {\"fill\": {\"color\": \"#C8D4E3\"}, \"line\": {\"color\": \"white\"}}, \"type\": \"table\"}]}, \"layout\": {\"annotationdefaults\": {\"arrowcolor\": \"#2a3f5f\", \"arrowhead\": 0, \"arrowwidth\": 1}, \"coloraxis\": {\"colorbar\": {\"outlinewidth\": 0, \"ticks\": \"\"}}, \"colorscale\": {\"diverging\": [[0, \"#8e0152\"], [0.1, \"#c51b7d\"], [0.2, \"#de77ae\"], [0.3, \"#f1b6da\"], [0.4, \"#fde0ef\"], [0.5, \"#f7f7f7\"], [0.6, \"#e6f5d0\"], [0.7, \"#b8e186\"], [0.8, \"#7fbc41\"], [0.9, \"#4d9221\"], [1, \"#276419\"]], \"sequential\": [[0.0, \"#0d0887\"], [0.1111111111111111, \"#46039f\"], [0.2222222222222222, \"#7201a8\"], [0.3333333333333333, \"#9c179e\"], [0.4444444444444444, \"#bd3786\"], [0.5555555555555556, \"#d8576b\"], [0.6666666666666666, \"#ed7953\"], [0.7777777777777778, \"#fb9f3a\"], [0.8888888888888888, \"#fdca26\"], [1.0, \"#f0f921\"]], \"sequentialminus\": [[0.0, \"#0d0887\"], [0.1111111111111111, \"#46039f\"], [0.2222222222222222, \"#7201a8\"], [0.3333333333333333, \"#9c179e\"], [0.4444444444444444, \"#bd3786\"], [0.5555555555555556, \"#d8576b\"], [0.6666666666666666, \"#ed7953\"], [0.7777777777777778, \"#fb9f3a\"], [0.8888888888888888, \"#fdca26\"], [1.0, \"#f0f921\"]]}, \"colorway\": [\"#636efa\", \"#EF553B\", \"#00cc96\", \"#ab63fa\", \"#FFA15A\", \"#19d3f3\", \"#FF6692\", \"#B6E880\", \"#FF97FF\", \"#FECB52\"], \"font\": {\"color\": \"#2a3f5f\"}, \"geo\": {\"bgcolor\": \"white\", \"lakecolor\": \"white\", \"landcolor\": \"#E5ECF6\", \"showlakes\": true, \"showland\": true, \"subunitcolor\": \"white\"}, \"hoverlabel\": {\"align\": \"left\"}, \"hovermode\": \"closest\", \"mapbox\": {\"style\": \"light\"}, \"paper_bgcolor\": \"white\", \"plot_bgcolor\": \"#E5ECF6\", \"polar\": {\"angularaxis\": {\"gridcolor\": \"white\", \"linecolor\": \"white\", \"ticks\": \"\"}, \"bgcolor\": \"#E5ECF6\", \"radialaxis\": {\"gridcolor\": \"white\", \"linecolor\": \"white\", \"ticks\": \"\"}}, \"scene\": {\"xaxis\": {\"backgroundcolor\": \"#E5ECF6\", \"gridcolor\": \"white\", \"gridwidth\": 2, \"linecolor\": \"white\", \"showbackground\": true, \"ticks\": \"\", \"zerolinecolor\": \"white\"}, \"yaxis\": {\"backgroundcolor\": \"#E5ECF6\", \"gridcolor\": \"white\", \"gridwidth\": 2, \"linecolor\": \"white\", \"showbackground\": true, \"ticks\": \"\", \"zerolinecolor\": \"white\"}, \"zaxis\": {\"backgroundcolor\": \"#E5ECF6\", \"gridcolor\": \"white\", \"gridwidth\": 2, \"linecolor\": \"white\", \"showbackground\": true, \"ticks\": \"\", \"zerolinecolor\": \"white\"}}, \"shapedefaults\": {\"line\": {\"color\": \"#2a3f5f\"}}, \"ternary\": {\"aaxis\": {\"gridcolor\": \"white\", \"linecolor\": \"white\", \"ticks\": \"\"}, \"baxis\": {\"gridcolor\": \"white\", \"linecolor\": \"white\", \"ticks\": \"\"}, \"bgcolor\": \"#E5ECF6\", \"caxis\": {\"gridcolor\": \"white\", \"linecolor\": \"white\", \"ticks\": \"\"}}, \"title\": {\"x\": 0.05}, \"xaxis\": {\"automargin\": true, \"gridcolor\": \"white\", \"linecolor\": \"white\", \"ticks\": \"\", \"title\": {\"standoff\": 15}, \"zerolinecolor\": \"white\", \"zerolinewidth\": 2}, \"yaxis\": {\"automargin\": true, \"gridcolor\": \"white\", \"linecolor\": \"white\", \"ticks\": \"\", \"title\": {\"standoff\": 15}, \"zerolinecolor\": \"white\", \"zerolinewidth\": 2}}}, \"title\": {\"text\": \"Error Trend (%)\"}},\n",
       "                        {\"responsive\": true}\n",
       "                    ).then(function(){\n",
       "                            \n",
       "var gd = document.getElementById('c2f2f726-9677-4c1f-8d39-1a093cde8efb');\n",
       "var x = new MutationObserver(function (mutations, observer) {{\n",
       "        var display = window.getComputedStyle(gd).display;\n",
       "        if (!display || display === 'none') {{\n",
       "            console.log([gd, 'removed!']);\n",
       "            Plotly.purge(gd);\n",
       "            observer.disconnect();\n",
       "        }}\n",
       "}});\n",
       "\n",
       "// Listen for the removal of the full notebook cells\n",
       "var notebookContainer = gd.closest('#notebook-container');\n",
       "if (notebookContainer) {{\n",
       "    x.observe(notebookContainer, {childList: true});\n",
       "}}\n",
       "\n",
       "// Listen for the clearing of the current output cell\n",
       "var outputEl = gd.closest('.output');\n",
       "if (outputEl) {{\n",
       "    x.observe(outputEl, {childList: true});\n",
       "}}\n",
       "\n",
       "                        })\n",
       "                };\n",
       "                });\n",
       "            </script>\n",
       "        </div>"
      ]
     },
     "metadata": {},
     "output_type": "display_data"
    }
   ],
   "source": [
    "\n",
    "fig1 = go.Figure()\n",
    "# fig = px.bar( x=histo_error1.index ,y=histo_error1['mape (Mean absolute percentage error) (VAR)'], labels={'x':'total_bill', 'y':'count'})\n",
    "fig1.add_trace( go.Bar(name='VAR' ,x=histo_error2.index ,y=histo_error2['mape (Mean absolute percentage error) (VAR)'])  )\n",
    "fig1.add_trace( go.Bar( name='CNN+LSTM',x=histo_error2.index ,y=histo_error2['mape (Mean absolute percentage error) (CNN+LSTM)'])  )\n",
    "# fig.add_trace(go.Bar( x=histo_error1.index ,y=histo_error1['mape (Mean absolute percentage error) (CNN+LSTM)'], labels={'x':'total_bill', 'y':'count'}))\n",
    "fig1.update_layout(title_text='Error Trend (%)')\n",
    "fig1.show()"
   ]
  },
  {
   "cell_type": "markdown",
   "metadata": {},
   "source": [
    "# WEB"
   ]
  },
  {
   "cell_type": "code",
   "execution_count": 211,
   "metadata": {},
   "outputs": [
    {
     "name": "stdout",
     "output_type": "stream",
     "text": [
      "Dash app running on http://127.0.0.1:8050/\n"
     ]
    }
   ],
   "source": [
    "import plotly.graph_objects as go\n",
    "\n",
    "app = JupyterDash(__name__)\n",
    "\n",
    "#------------------------- CSS and variable\n",
    "colors = {\n",
    "    'background': '#111111',\n",
    "    'text': '#7FDBFF'\n",
    "}\n",
    "pos = {\n",
    "    'align-content' : 'justify-content'\n",
    "}\n",
    "\n",
    "\n",
    "#---------------------------------------------------  Layout\n",
    "\n",
    "app.layout = html.Div(style={'backgroundColor': colors['background']}, children=[\n",
    "    html.H1(\n",
    "        children='Stock Price and Trend Prediction',\n",
    "        style={\n",
    "            'textAlign': 'center',\n",
    "            'color': colors['text']\n",
    "        }\n",
    "    ),\n",
    "\n",
    "        dcc.Tabs(id=\"model\", value='VAR', children=[\n",
    "        dcc.Tab(label='VAR Model', value='VAR'),\n",
    "        dcc.Tab(label='CNN-LSTM', value='CNNLSTM'),\n",
    "        ]),\n",
    "        html.Div(id='tabs-content'),    \n",
    "        dcc.Dropdown(\n",
    "                id=\"ticker\",\n",
    "                options=[\n",
    "                    {'label': 'BTS', 'value': 'BTS'},\n",
    "                    {'label': 'CPF', 'value': 'CPF'},\n",
    "                    {'label': 'PTTEP', 'value' : 'PTTEP'},\n",
    "                    {'label': 'SCC', 'value': 'SCC'},\n",
    "                    {'label': 'TVO', 'value': 'TVO'}\n",
    "                ],\n",
    "                value='BTS',\n",
    "                clearable=False,\n",
    "            ),\n",
    "\n",
    "        dcc.Graph(id=\"time-series-chart\"\n",
    "                 ),\n",
    "        dcc.Graph(id=\"error-chart\"\n",
    "                 ),    \n",
    "        \n",
    "        html.Div(id='indic',\n",
    "                style={\n",
    "                    'font-size' : 25,\n",
    "                'color': colors['text']\n",
    "            }),\n",
    "        html.Div(id='rmse',\n",
    "                style={\n",
    "                    'font-size' : 25,\n",
    "                'color': colors['text']\n",
    "            }),\n",
    "        html.Div(id='mape',\n",
    "                style={\n",
    "                    'font-size' : 25,\n",
    "                'color': colors['text']\n",
    "            }),\n",
    "\n",
    "])\n",
    "#-------------------------------------------------------------------------------------------\n",
    "\n",
    "\n",
    "###----- CallBack WEB------###\n",
    "##################################################################################\n",
    "\n",
    "\n",
    "\n",
    "# @app.callback(Output('memory-output', 'data'),\n",
    "#               Input('memory-countries', 'value'))\n",
    "# def filter_countries(countries_selected):\n",
    "#     if not countries_selected:\n",
    "#         # Return all the rows on initial load/no country selected.\n",
    "#         return df.to_dict('records')\n",
    "\n",
    "#     filtered = df.query('country in @countries_selected')\n",
    "\n",
    "#     return filtered.to_dict('records')\n",
    "\n",
    "# @app.callback(Output('memory-graph', 'figure'),\n",
    "#               Input('memory-output', 'data'),\n",
    "# #               Input('memory-field', 'value'))\n",
    "# def on_data_set_graph(data, field):\n",
    "#     if data is None:\n",
    "#         raise PreventUpdate\n",
    "\n",
    "#     aggregation = collections.defaultdict(\n",
    "#         lambda: collections.defaultdict(list)\n",
    "#     )\n",
    "\n",
    "#     for row in data:\n",
    "\n",
    "#         a = aggregation[row['country']]\n",
    "\n",
    "#         a['name'] = row['country']\n",
    "#         a['mode'] = 'lines+markers'\n",
    "\n",
    "#         a['x'].append(row[field])\n",
    "#         a['y'].append(row['year'])\n",
    "\n",
    "#     return {\n",
    "#         'data': [x for x in aggregation.values()]\n",
    "#     }\n",
    "##############################################\n",
    "# @app.callback(Output('container-button', 'children'),\n",
    "#               Input('VAR-val', 'n_clicks'),\n",
    "#               Input('CNN+LSTM-val', 'n_clicks'),\n",
    "# #               Input(\"ticker\", \"value\"),\n",
    "# )\n",
    "# def displayClick(btn1, btn2):\n",
    "#     changed_id = [p['prop_id'] for p in dash.callback_context.triggered][0]\n",
    "#     if 'VAR-val' in changed_id:\n",
    "#         msg = 'Button 1 was most recently clicked'\n",
    "#         return  html.Div(msg)\n",
    "#     elif 'CNN+LSTM-val' in changed_id:\n",
    "#         msg = 'Button 1 was most recently clicked'\n",
    "#         return  html.Div(msg)\n",
    "\n",
    "# @app.callback(\n",
    "#     Output(\"emp\", \"children\"), \n",
    "#     Input(\"model\", \"model_value\"),\n",
    "# )\n",
    "# def display_time_series(model_value):\n",
    "#     if model_value == 'VAR':\n",
    "#         return ('VAR Model')\n",
    "#     elif model_value == 'CNN_LSTM':\n",
    "#         return ('CNN-LSTM Model')\n",
    "\n",
    "#-------------------    TAB Model\n",
    "@app.callback(Output('tabs-content', 'children'),\n",
    "              Input('model', 'value'))\n",
    "def render_content(tab):\n",
    "    if tab == 'VAR':\n",
    "        return html.Div([html.H3('VAR Model',style={\n",
    "            'textAlign': 'center',\n",
    "            'color': colors['text']\n",
    "        })])\n",
    "    elif tab == 'CNNLSTM':\n",
    "        return html.Div([html.H3('LSTM-CNN Model',style={\n",
    "            'textAlign': 'center',\n",
    "            'color': colors['text']\n",
    "        })])\n",
    "\n",
    "    \n",
    "#----------------  Chart series\n",
    "@app.callback(\n",
    "    Output(\"time-series-chart\", \"figure\"), \n",
    "    \n",
    "    Input(\"ticker\", \"value\"),\n",
    "    Input(\"model\", \"value\"),\n",
    ")\n",
    "def chart_time_series(ticker,model):\n",
    "    if model == 'VAR':\n",
    "        if ticker == 'BTS':\n",
    "            return BTSplot_VAR\n",
    "        elif ticker == 'CPF':\n",
    "            return CPFplot_VAR\n",
    "        elif ticker == 'PTTEP':\n",
    "            return PTTEPplot_VAR\n",
    "        elif ticker == 'SCC':\n",
    "            return SCCplot_VAR\n",
    "        elif ticker == 'TVO':\n",
    "            return TVOplot_VAR\n",
    "    elif model == 'CNNLSTM':\n",
    "        if ticker == 'BTS':\n",
    "            return BTSplot_cnn_lstm\n",
    "        elif ticker == 'CPF':\n",
    "            return CPFplot_cnn_lstm\n",
    "        elif ticker == 'PTTEP':\n",
    "            return PTTEPplot_cnn_lstm\n",
    "        elif ticker == 'SCC':\n",
    "            return SCCplot_cnn_lstm\n",
    "        elif ticker == 'TVO':\n",
    "            return TVOplot_cnn_lstm\n",
    "\n",
    "        \n",
    "#---------------------   Chart error series\n",
    "@app.callback(\n",
    "    Output(\"error-chart\", \"figure\"), \n",
    "    Input(\"ticker\", \"value\"),\n",
    "#     Input(\"model\", \"value\"),\n",
    "    \n",
    ")\n",
    "def error_price_series(ticker):\n",
    "    if ticker == 'BTS':\n",
    "        return BTSplot_PRICEerror\n",
    "    elif ticker == 'CPF':\n",
    "        return CPFplot_PRICEerror\n",
    "    elif ticker == 'PTTEP':\n",
    "        return PTTEPplot_PRICEerror\n",
    "    elif ticker == 'SCC':\n",
    "        return SCCplot_PRICEerror\n",
    "    elif ticker == 'TVO':\n",
    "        return TVOplot_PRICEerror\n",
    "\n",
    "\n",
    "#-------------------    Name stocks\n",
    "@app.callback(\n",
    "    Output(\"indic\", \"children\"),\n",
    "    Input(\"ticker\", \"value\"),\n",
    "#     Input(\"model\", \"value\"),\n",
    ")\n",
    "def name(ticker):\n",
    "    return ('Forecast Accuracy of : {} stock'\n",
    "        .format(ticker))\n",
    "\n",
    "# @app.callback(\n",
    "#     Output(\"mae\", \"children\"),\n",
    "#     Input(\"ticker\", \"value\")\n",
    "# )\n",
    "# def mae(ticker):\n",
    "#     return ('mae (Mean Absolute Error) จำนวนเงินที่คลาดเคลื่อนจากการทำนายแบบหยาบ(+ - )  :  {:.4}\\n'\n",
    "#             .format(globals()[ticker+'_accuracy_prod']['mae (Mean Absolute Error)']))\n",
    "\n",
    "\n",
    "#----------------------   Evaluate  RSME\n",
    "@app.callback(\n",
    "    Output(\"rmse\", \"children\"),\n",
    "    Input(\"ticker\", \"value\"),\n",
    "    Input(\"model\", \"value\"),\n",
    ")\n",
    "def rmse(ticker,model):\n",
    "    if model == 'VAR':\n",
    "        return ('rmse (Root Mean Square Error) จำนวนเงินที่คลาดเคลื่อนจากการทำนาย  :  +- {:.4} บาท\\n'\n",
    "                .format(globals()[ticker+'_accuracy_prod_VAR']['rmse (Root Mean Square Error)']))\n",
    "    elif model == 'CNNLSTM':\n",
    "        return ('rmse (Root Mean Square Error) จำนวนเงินที่คลาดเคลื่อนจากการทำนาย  :  +- {:.4} บาท\\n'\n",
    "                .format(globals()[ticker+'_accuracy_prod_CNNLSTM']['rmse (Root Mean Square Error)']))\n",
    "    \n",
    "    \n",
    "#----------------------   Evaluate MAPE   \n",
    "@app.callback(\n",
    "    Output(\"mape\", \"children\"),\n",
    "    Input(\"ticker\", \"value\"),\n",
    "    Input(\"model\", \"value\"),\n",
    ")\n",
    "def mape(ticker,model):\n",
    "    if model == 'VAR':\n",
    "        return ('mape (Mean absolute percentage error) เปอร์เซ็นความคลาดเคลื่อนจากการทำนาย  :  {:.4} %\\n'\n",
    "            .format(globals()[ticker+'_accuracy_prod_VAR']['mape (Mean absolute percentage error)']))\n",
    "    elif model == 'CNNLSTM':\n",
    "        return ('mape (Mean absolute percentage error) เปอร์เซ็นความคลาดเคลื่อนจากการทำนาย  :  {:.4} %\\n'\n",
    "            .format(globals()[ticker+'_accuracy_prod_CNNLSTM']['mape (Mean absolute percentage error)']))\n",
    "\n",
    "\n",
    "        \n",
    "#     return([print(key, value) for key, value in accuracy_prod.items()]\n",
    "#         print('Forecast Accuracy of: {}\\n'.format(ticker))\n",
    "#     accuracy_prod = forecast_accuracy(BTS_prediction['BTS.BK_forecast'].values, BTS_testslicing['BTS.BK'])\n",
    "#     for k, v in accuracy_prod.items():\n",
    "#         print(k, ': ', round(v,4))\n",
    "           \n",
    "#     return plt.tight_layout();\n",
    "#     return BTS_plot\n",
    "# def update_figure(colorscale):\n",
    "#     return px.scatter(\n",
    "#         BTS_prediction_n['BTS.BK_forecast'], x=\"total_bill\", y=\"tip\", color=\"size\",\n",
    "#         color_continuous_scale=colorscale,\n",
    "#         render_mode=\"webgl\", title=\"Tips\"\n",
    "#     )\n",
    "# if __name__ == '__main__':\n",
    "\n",
    "\n",
    "app.run_server(debug=True)"
   ]
  },
  {
   "cell_type": "code",
   "execution_count": 18,
   "metadata": {},
   "outputs": [],
   "source": [
    "BV = BTS_accuracy_prod_VAR['mape (Mean absolute percentage error)']\n",
    "CV= CPF_accuracy_prod_VAR['mape (Mean absolute percentage error)']\n",
    "PV= PTTEP_accuracy_prod_VAR['mape (Mean absolute percentage error)']\n",
    "SV= SCC_accuracy_prod_VAR['mape (Mean absolute percentage error)']\n",
    "TV= TVO_accuracy_prod_VAR['mape (Mean absolute percentage error)']\n"
   ]
  },
  {
   "cell_type": "code",
   "execution_count": 19,
   "metadata": {},
   "outputs": [
    {
     "data": {
      "text/plain": [
       "3.7498348828192194"
      ]
     },
     "execution_count": 19,
     "metadata": {},
     "output_type": "execute_result"
    }
   ],
   "source": [
    "VAR_error_mean = (BV+CV+PV+SV+TV)/5\n",
    "VAR_error_mean"
   ]
  },
  {
   "cell_type": "code",
   "execution_count": 20,
   "metadata": {},
   "outputs": [],
   "source": [
    "BCL = BTS_accuracy_prod_CNNLSTM['mape (Mean absolute percentage error)']\n",
    "CCL= CPF_accuracy_prod_CNNLSTM['mape (Mean absolute percentage error)']\n",
    "PCL= PTTEP_accuracy_prod_CNNLSTM['mape (Mean absolute percentage error)']\n",
    "SCL= SCC_accuracy_prod_CNNLSTM['mape (Mean absolute percentage error)']\n",
    "TCL= TVO_accuracy_prod_CNNLSTM['mape (Mean absolute percentage error)']"
   ]
  },
  {
   "cell_type": "code",
   "execution_count": 21,
   "metadata": {},
   "outputs": [
    {
     "data": {
      "text/plain": [
       "2.401081283275004"
      ]
     },
     "execution_count": 21,
     "metadata": {},
     "output_type": "execute_result"
    }
   ],
   "source": [
    "CNNLSTM_error_mean = (BCL +CCL+PCL+SCL+TCL)/5\n",
    "CNNLSTM_error_mean"
   ]
  },
  {
   "cell_type": "code",
   "execution_count": null,
   "metadata": {},
   "outputs": [],
   "source": []
  },
  {
   "cell_type": "code",
   "execution_count": null,
   "metadata": {},
   "outputs": [],
   "source": []
  }
 ],
 "metadata": {
  "kernelspec": {
   "display_name": "Python 3",
   "language": "python",
   "name": "python3"
  },
  "language_info": {
   "codemirror_mode": {
    "name": "ipython",
    "version": 3
   },
   "file_extension": ".py",
   "mimetype": "text/x-python",
   "name": "python",
   "nbconvert_exporter": "python",
   "pygments_lexer": "ipython3",
   "version": "3.7.2"
  }
 },
 "nbformat": 4,
 "nbformat_minor": 4
}
